{
 "cells": [
  {
   "cell_type": "code",
   "execution_count": null,
   "metadata": {
    "id": "Rc-u_FqcSGKS"
   },
   "outputs": [],
   "source": [
    "# prompt: forecasting  the house prices accurately using smart regression technique in data science\n",
    "\n",
    "import pandas as pd\n",
    "import numpy as np\n",
    "from sklearn.model_selection import train_test_split\n",
    "from sklearn.preprocessing import StandardScaler\n",
    "from sklearn.ensemble import GradientBoostingRegressor\n",
    "from sklearn.metrics import mean_squared_error, r2_score\n",
    "\n",
    "# Load the dataset (replace 'house_prices.csv' with your actual file)\n",
    "try:\n",
    "  df = pd.read_csv('house_prices.csv')\n",
    "except FileNotFoundError:\n",
    "  print(\"Error: 'house_prices.csv' not found. Please upload your dataset.\")\n",
    "  df = None\n",
    "\n",
    "if df is not None:\n",
    "  # Data Preprocessing (example, adjust based on your data)\n",
    "\n",
    "  # 1. Handle missing values (replace with mean, median, or more sophisticated methods)\n",
    "  for col in df.columns:\n",
    "      if df[col].isnull().any():\n",
    "          if pd.api.types.is_numeric_dtype(df[col]):\n",
    "              df[col].fillna(df[col].mean(), inplace=True)\n",
    "          else:\n",
    "              df[col].fillna(df[col].mode()[0], inplace=True)\n",
    "\n",
    "\n",
    "  # 2. Feature Encoding (for categorical variables) - One-hot encoding example\n",
    "  categorical_cols = df.select_dtypes(include=['object']).columns\n",
    "  df = pd.get_dummies(df, columns=categorical_cols, drop_first=True) # Drop first to avoid multicollinearity\n",
    "\n",
    "\n",
    "  # 3. Feature Scaling (important for gradient boosting)\n",
    "  scaler = StandardScaler()\n",
    "  numerical_cols = df.select_dtypes(include=['number']).columns\n",
    "  df[numerical_cols] = scaler.fit_transform(df[numerical_cols])\n",
    "\n",
    "  # Define features (X) and target variable (y)\n",
    "  X = df.drop('SalePrice', axis=1)  # Replace 'SalePrice' with your target column name\n",
    "  y = df['SalePrice']\n",
    "\n",
    "\n",
    "  # Split data into training and testing sets\n",
    "  X_train, X_test, y_train, y_test = train_test_split(X, y, test_size=0.2, random_state=42) # Adjust test_size as needed\n",
    "\n",
    "\n",
    "  # Model Training (Gradient Boosting Regressor)\n",
    "  model = GradientBoostingRegressor(n_estimators=100, learning_rate=0.1, max_depth=3, random_state=42) # Tune hyperparameters\n",
    "\n",
    "  model.fit(X_train, y_train)\n",
    "\n",
    "  # Model Evaluation\n",
    "  y_pred = model.predict(X_test)\n",
    "  mse = mean_squared_error(y_test, y_pred)\n",
    "  rmse = np.sqrt(mse)\n",
    "  r2 = r2_score(y_test, y_pred)\n",
    "\n",
    "  print(f\"Mean Squared Error: {mse}\")\n",
    "  print(f\"Root Mean Squared Error: {rmse}\")\n",
    "  print(f\"R-squared: {r2}\")\n",
    "\n",
    "\n",
    "  # Example prediction (replace with your new data)\n",
    "  # new_data = pd.DataFrame(...)  # Create a DataFrame with the same features as your training data\n",
    "  # new_prediction = model.predict(new_data)\n",
    "  # print(f\"Predicted House Price: {new_prediction}\")\n"
   ]
  },
  {
   "cell_type": "code",
   "execution_count": null,
   "metadata": {},
   "outputs": [],
   "source": []
  }
 ],
 "metadata": {
  "colab": {
   "authorship_tag": "ABX9TyN1QgXZJtSRnIQd94/klLFl",
   "provenance": []
  },
  "kernelspec": {
   "display_name": "Python 3",
   "name": "python3"
  },
  "language_info": {
   "name": "python"
  }
 },
 "nbformat": 4,
 "nbformat_minor": 0
}
